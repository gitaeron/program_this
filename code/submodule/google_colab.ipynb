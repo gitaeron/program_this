{
  "cells": [
    {
      "cell_type": "markdown",
      "metadata": {
        "id": "n3o0Sy960aDL"
      },
      "source": [
        "## 搭建环境"
      ]
    },
    {
      "cell_type": "code",
      "execution_count": 1,
      "metadata": {
        "colab": {
          "base_uri": "https://localhost:8080/"
        },
        "id": "MrvbfIgkMNH8",
        "outputId": "8edaa866-1d84-4b54-bce8-44c678ec286e"
      },
      "outputs": [
        {
          "output_type": "stream",
          "name": "stdout",
          "text": [
            "Python 3.10.12\n"
          ]
        }
      ],
      "source": [
        "!python --version"
      ]
    },
    {
      "cell_type": "code",
      "execution_count": 2,
      "metadata": {
        "colab": {
          "base_uri": "https://localhost:8080/"
        },
        "id": "NWxuyeBRL1l2",
        "outputId": "27781a78-ddaf-4d1e-edc2-6bb116147b42"
      },
      "outputs": [
        {
          "output_type": "stream",
          "name": "stdout",
          "text": [
            "Looking in indexes: https://pypi.org/simple, https://us-python.pkg.dev/colab-wheels/public/simple/\n",
            "Collecting update\n",
            "  Downloading update-0.0.1-py2.py3-none-any.whl (2.9 kB)\n",
            "Collecting style==1.1.0 (from update)\n",
            "  Downloading style-1.1.0-py2.py3-none-any.whl (6.4 kB)\n",
            "Installing collected packages: style, update\n",
            "Successfully installed style-1.1.0 update-0.0.1\n"
          ]
        }
      ],
      "source": [
        "!pip install update"
      ]
    },
    {
      "cell_type": "code",
      "execution_count": null,
      "metadata": {
        "colab": {
          "base_uri": "https://localhost:8080/"
        },
        "id": "lHMmGqC0MNKM",
        "outputId": "5c4754b3-8918-4abc-91ba-b9662b4d44a6"
      },
      "outputs": [
        {
          "output_type": "stream",
          "name": "stdout",
          "text": [
            "Looking in indexes: https://pypi.org/simple, https://us-python.pkg.dev/colab-wheels/public/simple/\n",
            "Collecting ultralytics\n",
            "  Downloading ultralytics-8.0.119-py3-none-any.whl (611 kB)\n",
            "\u001b[2K     \u001b[90m━━━━━━━━━━━━━━━━━━━━━━━━━━━━━━━━━━━━━━\u001b[0m \u001b[32m611.2/611.2 kB\u001b[0m \u001b[31m21.6 MB/s\u001b[0m eta \u001b[36m0:00:00\u001b[0m\n",
            "\u001b[?25hRequirement already satisfied: matplotlib>=3.2.2 in /usr/local/lib/python3.10/dist-packages (from ultralytics) (3.7.1)\n",
            "Requirement already satisfied: opencv-python>=4.6.0 in /usr/local/lib/python3.10/dist-packages (from ultralytics) (4.7.0.72)\n",
            "Requirement already satisfied: Pillow>=7.1.2 in /usr/local/lib/python3.10/dist-packages (from ultralytics) (8.4.0)\n",
            "Requirement already satisfied: PyYAML>=5.3.1 in /usr/local/lib/python3.10/dist-packages (from ultralytics) (6.0)\n",
            "Requirement already satisfied: requests>=2.23.0 in /usr/local/lib/python3.10/dist-packages (from ultralytics) (2.27.1)\n",
            "Requirement already satisfied: scipy>=1.4.1 in /usr/local/lib/python3.10/dist-packages (from ultralytics) (1.10.1)\n",
            "Requirement already satisfied: torch>=1.7.0 in /usr/local/lib/python3.10/dist-packages (from ultralytics) (2.0.1+cu118)\n",
            "Requirement already satisfied: torchvision>=0.8.1 in /usr/local/lib/python3.10/dist-packages (from ultralytics) (0.15.2+cu118)\n",
            "Requirement already satisfied: tqdm>=4.64.0 in /usr/local/lib/python3.10/dist-packages (from ultralytics) (4.65.0)\n",
            "Requirement already satisfied: pandas>=1.1.4 in /usr/local/lib/python3.10/dist-packages (from ultralytics) (1.5.3)\n",
            "Requirement already satisfied: seaborn>=0.11.0 in /usr/local/lib/python3.10/dist-packages (from ultralytics) (0.12.2)\n",
            "Requirement already satisfied: psutil in /usr/local/lib/python3.10/dist-packages (from ultralytics) (5.9.5)\n",
            "Requirement already satisfied: contourpy>=1.0.1 in /usr/local/lib/python3.10/dist-packages (from matplotlib>=3.2.2->ultralytics) (1.0.7)\n",
            "Requirement already satisfied: cycler>=0.10 in /usr/local/lib/python3.10/dist-packages (from matplotlib>=3.2.2->ultralytics) (0.11.0)\n",
            "Requirement already satisfied: fonttools>=4.22.0 in /usr/local/lib/python3.10/dist-packages (from matplotlib>=3.2.2->ultralytics) (4.39.3)\n",
            "Requirement already satisfied: kiwisolver>=1.0.1 in /usr/local/lib/python3.10/dist-packages (from matplotlib>=3.2.2->ultralytics) (1.4.4)\n",
            "Requirement already satisfied: numpy>=1.20 in /usr/local/lib/python3.10/dist-packages (from matplotlib>=3.2.2->ultralytics) (1.22.4)\n",
            "Requirement already satisfied: packaging>=20.0 in /usr/local/lib/python3.10/dist-packages (from matplotlib>=3.2.2->ultralytics) (23.1)\n",
            "Requirement already satisfied: pyparsing>=2.3.1 in /usr/local/lib/python3.10/dist-packages (from matplotlib>=3.2.2->ultralytics) (3.0.9)\n",
            "Requirement already satisfied: python-dateutil>=2.7 in /usr/local/lib/python3.10/dist-packages (from matplotlib>=3.2.2->ultralytics) (2.8.2)\n",
            "Requirement already satisfied: pytz>=2020.1 in /usr/local/lib/python3.10/dist-packages (from pandas>=1.1.4->ultralytics) (2022.7.1)\n",
            "Requirement already satisfied: urllib3<1.27,>=1.21.1 in /usr/local/lib/python3.10/dist-packages (from requests>=2.23.0->ultralytics) (1.26.15)\n",
            "Requirement already satisfied: certifi>=2017.4.17 in /usr/local/lib/python3.10/dist-packages (from requests>=2.23.0->ultralytics) (2022.12.7)\n",
            "Requirement already satisfied: charset-normalizer~=2.0.0 in /usr/local/lib/python3.10/dist-packages (from requests>=2.23.0->ultralytics) (2.0.12)\n",
            "Requirement already satisfied: idna<4,>=2.5 in /usr/local/lib/python3.10/dist-packages (from requests>=2.23.0->ultralytics) (3.4)\n",
            "Requirement already satisfied: filelock in /usr/local/lib/python3.10/dist-packages (from torch>=1.7.0->ultralytics) (3.12.0)\n",
            "Requirement already satisfied: typing-extensions in /usr/local/lib/python3.10/dist-packages (from torch>=1.7.0->ultralytics) (4.5.0)\n",
            "Requirement already satisfied: sympy in /usr/local/lib/python3.10/dist-packages (from torch>=1.7.0->ultralytics) (1.11.1)\n",
            "Requirement already satisfied: networkx in /usr/local/lib/python3.10/dist-packages (from torch>=1.7.0->ultralytics) (3.1)\n",
            "Requirement already satisfied: jinja2 in /usr/local/lib/python3.10/dist-packages (from torch>=1.7.0->ultralytics) (3.1.2)\n",
            "Requirement already satisfied: triton==2.0.0 in /usr/local/lib/python3.10/dist-packages (from torch>=1.7.0->ultralytics) (2.0.0)\n",
            "Requirement already satisfied: cmake in /usr/local/lib/python3.10/dist-packages (from triton==2.0.0->torch>=1.7.0->ultralytics) (3.25.2)\n",
            "Requirement already satisfied: lit in /usr/local/lib/python3.10/dist-packages (from triton==2.0.0->torch>=1.7.0->ultralytics) (16.0.5)\n",
            "Requirement already satisfied: six>=1.5 in /usr/local/lib/python3.10/dist-packages (from python-dateutil>=2.7->matplotlib>=3.2.2->ultralytics) (1.16.0)\n",
            "Requirement already satisfied: MarkupSafe>=2.0 in /usr/local/lib/python3.10/dist-packages (from jinja2->torch>=1.7.0->ultralytics) (2.1.2)\n",
            "Requirement already satisfied: mpmath>=0.19 in /usr/local/lib/python3.10/dist-packages (from sympy->torch>=1.7.0->ultralytics) (1.3.0)\n"
          ]
        }
      ],
      "source": [
        "!pip install ultralytics"
      ]
    },
    {
      "cell_type": "code",
      "execution_count": null,
      "metadata": {
        "id": "bt8qXbz3zlzj"
      },
      "outputs": [],
      "source": [
        "!pwd"
      ]
    },
    {
      "cell_type": "code",
      "execution_count": null,
      "metadata": {
        "id": "KBFf2dpqMNMh"
      },
      "outputs": [],
      "source": [
        "!git clone https://github.com/gitaeron/traffic_sign_dataset_in_yolo_format.git"
      ]
    },
    {
      "cell_type": "code",
      "execution_count": null,
      "metadata": {
        "id": "tNyRGkQIzmAb"
      },
      "outputs": [],
      "source": [
        "!ls -ailF"
      ]
    },
    {
      "cell_type": "markdown",
      "metadata": {
        "id": "Gq-0S80p0RaL"
      },
      "source": [
        "## 查看机器配置"
      ]
    },
    {
      "cell_type": "code",
      "execution_count": null,
      "metadata": {
        "id": "I8iD246ZzmCT"
      },
      "outputs": [],
      "source": [
        "!nvidia-smi"
      ]
    },
    {
      "cell_type": "code",
      "execution_count": null,
      "metadata": {
        "id": "0x78mY1hz8QT"
      },
      "outputs": [],
      "source": [
        "!cat /proc/cpuinfo"
      ]
    },
    {
      "cell_type": "markdown",
      "metadata": {
        "id": "z3WQ9EgI_GG2"
      },
      "source": [
        "## 处理数据集"
      ]
    },
    {
      "cell_type": "code",
      "execution_count": null,
      "metadata": {
        "colab": {
          "base_uri": "https://localhost:8080/"
        },
        "id": "BI--weuq0_r0",
        "outputId": "81efd89b-6149-43b3-875b-5471e1181b06"
      },
      "outputs": [
        {
          "output_type": "stream",
          "name": "stdout",
          "text": [
            "total 40\n",
            "3276858 drwxr-xr-x 6 root root 4096 Jun 18 03:18 ./\n",
            "3145734 drwxr-xr-x 1 root root 4096 Jun 18 03:16 ../\n",
            "3277337 -rw-r--r-- 1 root root  259 Jun 18 03:18 dataset.yaml\n",
            "3277338 drwxr-xr-x 4 root root 4096 Jun 18 03:18 direct/\n",
            "3276859 drwxr-xr-x 8 root root 4096 Jun 18 03:18 .git/\n",
            "3277320 -rw-r--r-- 1 root root  762 Jun 18 03:18 LICENSE.md\n",
            "3277335 -rw-r--r-- 1 root root 1895 Jun 18 03:18 README.EN.md\n",
            "3277336 -rw-r--r-- 1 root root 1685 Jun 18 03:18 README.md\n",
            "3412109 drwxr-xr-x 4 root root 4096 Jun 18 03:18 turn_left/\n",
            "3417117 drwxr-xr-x 4 root root 4096 Jun 18 03:18 turn_right/\n"
          ]
        }
      ],
      "source": [
        "!ls -ailF /content/traffic_sign_dataset_in_yolo_format/"
      ]
    },
    {
      "cell_type": "code",
      "execution_count": null,
      "metadata": {
        "id": "HThoCVzYA9Wm"
      },
      "outputs": [],
      "source": [
        "!mkdir /content/traffic_sign_dataset_in_yolo_format/data"
      ]
    },
    {
      "cell_type": "code",
      "execution_count": null,
      "metadata": {
        "id": "FiJLhK5RA9Yy"
      },
      "outputs": [],
      "source": [
        "!cp -r /content/traffic_sign_dataset_in_yolo_format/direct/*  /content/traffic_sign_dataset_in_yolo_format/data/"
      ]
    },
    {
      "cell_type": "code",
      "execution_count": null,
      "metadata": {
        "colab": {
          "base_uri": "https://localhost:8080/"
        },
        "id": "eSWwd2ckBDKq",
        "outputId": "5cb93657-994f-497f-aeb8-7ec5d03c56d7"
      },
      "outputs": [
        {
          "output_type": "stream",
          "name": "stdout",
          "text": [
            "direct: \n",
            "3366\n",
            "data: \n",
            "3366\n"
          ]
        }
      ],
      "source": [
        "!echo \"direct: \"\n",
        "!ls -l /content/traffic_sign_dataset_in_yolo_format/direct/images/train/ | grep \"^-\" | wc -l\n",
        "\n",
        "!echo \"data: \"\n",
        "!ls -l /content/traffic_sign_dataset_in_yolo_format/data/images/train/  | grep \"^-\" | wc -l"
      ]
    },
    {
      "cell_type": "code",
      "execution_count": null,
      "metadata": {
        "id": "oqq2bmrPBYtn"
      },
      "outputs": [],
      "source": [
        "!cp -r /content/traffic_sign_dataset_in_yolo_format/turn_left/* /content/traffic_sign_dataset_in_yolo_format/data/"
      ]
    },
    {
      "cell_type": "code",
      "execution_count": null,
      "metadata": {
        "colab": {
          "base_uri": "https://localhost:8080/"
        },
        "id": "R9oUM4DUBbdC",
        "outputId": "c768d046-1715-454b-9f73-0222fd31bd8f"
      },
      "outputs": [
        {
          "output_type": "stream",
          "name": "stdout",
          "text": [
            "direct: \n",
            "3366\n",
            "turn_left: \n",
            "2000\n",
            "data: \n",
            "5366\n"
          ]
        }
      ],
      "source": [
        "!echo \"direct: \"\n",
        "!ls -l /content/traffic_sign_dataset_in_yolo_format/direct/images/train/ | grep \"^-\" | wc -l\n",
        "\n",
        "!echo \"turn_left: \"\n",
        "!ls -l /content/traffic_sign_dataset_in_yolo_format/turn_left/images/train/  | grep \"^-\" | wc -l\n",
        "\n",
        "!echo \"data: \"\n",
        "!ls -l /content/traffic_sign_dataset_in_yolo_format/data/images/train/  | grep \"^-\" | wc -l"
      ]
    },
    {
      "cell_type": "code",
      "execution_count": null,
      "metadata": {
        "id": "1Xk9-i6pBgPv"
      },
      "outputs": [],
      "source": [
        "!cp -r /content/traffic_sign_dataset_in_yolo_format/turn_right/* /content/traffic_sign_dataset_in_yolo_format/data/"
      ]
    },
    {
      "cell_type": "code",
      "execution_count": null,
      "metadata": {
        "id": "OVW30-k2A2E0"
      },
      "outputs": [],
      "source": [
        "# !rm -rf /content/traffic_sign_dataset_in_yolo_format/data"
      ]
    },
    {
      "cell_type": "markdown",
      "metadata": {
        "id": "vPcZ35ra0W7C"
      },
      "source": [
        "## 训练"
      ]
    },
    {
      "cell_type": "code",
      "execution_count": null,
      "metadata": {
        "colab": {
          "base_uri": "https://localhost:8080/"
        },
        "id": "H3aQe5Gk90KG",
        "outputId": "4dcff7b3-f53e-486e-a690-f311f3097200"
      },
      "outputs": [
        {
          "output_type": "stream",
          "name": "stdout",
          "text": [
            "direct: \n",
            "3366\n",
            "turn_left: \n",
            "2000\n",
            "turn_right: \n",
            "2000\n",
            "data: \n",
            "7366\n"
          ]
        }
      ],
      "source": [
        "!echo \"direct: \"\n",
        "!ls -l /content/traffic_sign_dataset_in_yolo_format/direct/images/train/ | grep \"^-\" | wc -l\n",
        "\n",
        "!echo \"turn_left: \"\n",
        "!ls -l /content/traffic_sign_dataset_in_yolo_format/turn_left/images/train/  | grep \"^-\" | wc -l\n",
        "\n",
        "!echo \"turn_right: \"\n",
        "!ls -l /content/traffic_sign_dataset_in_yolo_format/turn_right/images/train/  | grep \"^-\" | wc -l\n",
        "\n",
        "!echo \"data: \"\n",
        "!ls -l /content/traffic_sign_dataset_in_yolo_format/data/images/train/  | grep \"^-\" | wc -l"
      ]
    },
    {
      "cell_type": "code",
      "execution_count": null,
      "metadata": {
        "colab": {
          "base_uri": "https://localhost:8080/"
        },
        "id": "DcQXJb_yGx5k",
        "outputId": "0fefacbf-4c3a-4b56-a96f-8c9cee52ca6e"
      },
      "outputs": [
        {
          "output_type": "stream",
          "name": "stdout",
          "text": [
            "path: /content/traffic_sign_dataset_in_yolo_format/data\r\n",
            "train: # train images (relative to 'path')  16551 images\r\n",
            "  - images/train\r\n",
            "val: # val images (relative to 'path')  4952 images\r\n",
            "  - images/val\r\n",
            "test: # test images (optional)\r\n",
            "  - predict\r\n",
            "\r\n",
            "nc: 3\r\n",
            "\r\n",
            "# Classes\r\n",
            "names: ['direct', 'turn_left', 'turn_right']\r\n",
            "\r\n"
          ]
        }
      ],
      "source": [
        "!cat /content/dataset.yaml"
      ]
    },
    {
      "cell_type": "code",
      "execution_count": null,
      "metadata": {
        "colab": {
          "base_uri": "https://localhost:8080/"
        },
        "id": "kQ8mwSOx0UQ0",
        "outputId": "e379d4a6-c51e-402c-90b4-bdd5b524a238"
      },
      "outputs": [
        {
          "output_type": "stream",
          "name": "stdout",
          "text": [
            "Ultralytics YOLOv8.0.119 🚀 Python-3.10.12 torch-2.0.1+cu118 CPU\n",
            "\u001b[34m\u001b[1myolo/engine/trainer: \u001b[0mtask=detect, mode=train, model=yolov8n.pt, data=/content/dataset.yaml, epochs=50, patience=50, batch=32, imgsz=800, save=True, save_period=-1, cache=False, device=None, workers=8, project=None, name=None, exist_ok=False, pretrained=True, optimizer=auto, verbose=True, seed=0, deterministic=True, single_cls=False, rect=False, cos_lr=False, close_mosaic=0, resume=False, amp=True, fraction=1.0, profile=False, overlap_mask=True, mask_ratio=4, dropout=0.0, val=True, split=val, save_json=False, save_hybrid=False, conf=None, iou=0.7, max_det=300, half=False, dnn=False, plots=True, source=None, show=False, save_txt=False, save_conf=False, save_crop=False, show_labels=True, show_conf=True, vid_stride=1, line_width=None, visualize=False, augment=False, agnostic_nms=False, classes=None, retina_masks=False, boxes=True, format=torchscript, keras=False, optimize=False, int8=False, dynamic=False, simplify=False, opset=None, workspace=4, nms=False, lr0=0.01, lrf=0.01, momentum=0.937, weight_decay=0.0005, warmup_epochs=3.0, warmup_momentum=0.8, warmup_bias_lr=0.1, box=7.5, cls=0.5, dfl=1.5, pose=12.0, kobj=1.0, label_smoothing=0.0, nbs=64, hsv_h=0.015, hsv_s=0.7, hsv_v=0.4, degrees=0.0, translate=0.1, scale=0.5, shear=0.0, perspective=0.0, flipud=0.0, fliplr=0.5, mosaic=1.0, mixup=0.0, copy_paste=0.0, cfg=None, v5loader=False, tracker=botsort.yaml, save_dir=runs/detect/train\n",
            "Overriding model.yaml nc=80 with nc=3\n",
            "\n",
            "                   from  n    params  module                                       arguments                     \n",
            "  0                  -1  1       464  ultralytics.nn.modules.conv.Conv             [3, 16, 3, 2]                 \n",
            "  1                  -1  1      4672  ultralytics.nn.modules.conv.Conv             [16, 32, 3, 2]                \n",
            "  2                  -1  1      7360  ultralytics.nn.modules.block.C2f             [32, 32, 1, True]             \n",
            "  3                  -1  1     18560  ultralytics.nn.modules.conv.Conv             [32, 64, 3, 2]                \n",
            "  4                  -1  2     49664  ultralytics.nn.modules.block.C2f             [64, 64, 2, True]             \n",
            "  5                  -1  1     73984  ultralytics.nn.modules.conv.Conv             [64, 128, 3, 2]               \n",
            "  6                  -1  2    197632  ultralytics.nn.modules.block.C2f             [128, 128, 2, True]           \n",
            "  7                  -1  1    295424  ultralytics.nn.modules.conv.Conv             [128, 256, 3, 2]              \n",
            "  8                  -1  1    460288  ultralytics.nn.modules.block.C2f             [256, 256, 1, True]           \n",
            "  9                  -1  1    164608  ultralytics.nn.modules.block.SPPF            [256, 256, 5]                 \n",
            " 10                  -1  1         0  torch.nn.modules.upsampling.Upsample         [None, 2, 'nearest']          \n",
            " 11             [-1, 6]  1         0  ultralytics.nn.modules.conv.Concat           [1]                           \n",
            " 12                  -1  1    148224  ultralytics.nn.modules.block.C2f             [384, 128, 1]                 \n",
            " 13                  -1  1         0  torch.nn.modules.upsampling.Upsample         [None, 2, 'nearest']          \n",
            " 14             [-1, 4]  1         0  ultralytics.nn.modules.conv.Concat           [1]                           \n",
            " 15                  -1  1     37248  ultralytics.nn.modules.block.C2f             [192, 64, 1]                  \n",
            " 16                  -1  1     36992  ultralytics.nn.modules.conv.Conv             [64, 64, 3, 2]                \n",
            " 17            [-1, 12]  1         0  ultralytics.nn.modules.conv.Concat           [1]                           \n",
            " 18                  -1  1    123648  ultralytics.nn.modules.block.C2f             [192, 128, 1]                 \n",
            " 19                  -1  1    147712  ultralytics.nn.modules.conv.Conv             [128, 128, 3, 2]              \n",
            " 20             [-1, 9]  1         0  ultralytics.nn.modules.conv.Concat           [1]                           \n",
            " 21                  -1  1    493056  ultralytics.nn.modules.block.C2f             [384, 256, 1]                 \n",
            " 22        [15, 18, 21]  1    751897  ultralytics.nn.modules.head.Detect           [3, [64, 128, 256]]           \n",
            "Model summary: 225 layers, 3011433 parameters, 3011417 gradients\n",
            "\n",
            "Transferred 319/355 items from pretrained weights\n",
            "\u001b[34m\u001b[1mTensorBoard: \u001b[0mStart with 'tensorboard --logdir runs/detect/train', view at http://localhost:6006/\n",
            "\u001b[34m\u001b[1mtrain: \u001b[0mScanning /content/traffic_sign_dataset_in_yolo_format/data/labels/train.cache... 7366 images, 0 backgrounds, 0 corrupt: 100% 7366/7366 [00:00<?, ?it/s]\n",
            "\u001b[34m\u001b[1malbumentations: \u001b[0mBlur(p=0.01, blur_limit=(3, 7)), MedianBlur(p=0.01, blur_limit=(3, 7)), ToGray(p=0.01), CLAHE(p=0.01, clip_limit=(1, 4.0), tile_grid_size=(8, 8))\n",
            "\u001b[34m\u001b[1mval: \u001b[0mScanning /content/traffic_sign_dataset_in_yolo_format/data/labels/val.cache... 1841 images, 0 backgrounds, 0 corrupt: 100% 1841/1841 [00:00<?, ?it/s]\n",
            "Plotting labels to runs/detect/train/labels.jpg... \n",
            "\u001b[34m\u001b[1moptimizer:\u001b[0m AdamW(lr=0.001429, momentum=0.9) with parameter groups 57 weight(decay=0.0), 64 weight(decay=0.0005), 63 bias(decay=0.0)\n",
            "Image sizes 800 train, 800 val\n",
            "Using 0 dataloader workers\n",
            "Logging results to \u001b[1mruns/detect/train\u001b[0m\n",
            "Starting training for 50 epochs...\n",
            "\n",
            "      Epoch    GPU_mem   box_loss   cls_loss   dfl_loss  Instances       Size\n",
            "       1/50         0G      1.559      4.812      1.898         53        800:   1% 3/231 [03:13<3:50:47, 60.73s/it]^C\n"
          ]
        }
      ],
      "source": [
        "!yolo detect train data=/content/dataset.yaml model=yolov8n.pt  batch=32 epochs=50 imgsz=800 save=True"
      ]
    },
    {
      "cell_type": "code",
      "source": [
        "# !rm -rf /content/runs/detect/train"
      ],
      "metadata": {
        "id": "lqTYX1VwWkd5"
      },
      "execution_count": null,
      "outputs": []
    },
    {
      "cell_type": "markdown",
      "metadata": {
        "id": "A5sPT8w_FNDn"
      },
      "source": [
        "## 预测"
      ]
    },
    {
      "cell_type": "code",
      "source": [
        "!cp -r /content/runs/detect/train/weights/best.pt  /content/drive/MyDrive/"
      ],
      "metadata": {
        "id": "WL548hnWiNqg"
      },
      "execution_count": null,
      "outputs": []
    },
    {
      "cell_type": "code",
      "execution_count": null,
      "metadata": {
        "colab": {
          "base_uri": "https://localhost:8080/"
        },
        "id": "N8occbpVCd_x",
        "outputId": "1b278b55-8ed8-4fbb-f42e-d3223ab01309"
      },
      "outputs": [
        {
          "output_type": "stream",
          "name": "stdout",
          "text": [
            "Traceback (most recent call last):\n",
            "  File \"/usr/local/bin/yolo\", line 5, in <module>\n",
            "    from ultralytics.yolo.cfg import entrypoint\n",
            "  File \"/usr/local/lib/python3.10/dist-packages/ultralytics/__init__.py\", line 5, in <module>\n",
            "    from ultralytics.hub import start\n",
            "  File \"/usr/local/lib/python3.10/dist-packages/ultralytics/hub/__init__.py\", line 5, in <module>\n",
            "    from ultralytics.hub.auth import Auth\n",
            "  File \"/usr/local/lib/python3.10/dist-packages/ultralytics/hub/auth.py\", line 5, in <module>\n",
            "    from ultralytics.hub.utils import HUB_API_ROOT, PREFIX, request_with_credentials\n",
            "  File \"/usr/local/lib/python3.10/dist-packages/ultralytics/hub/utils.py\", line 14, in <module>\n",
            "    from ultralytics.yolo.utils import (ENVIRONMENT, LOGGER, ONLINE, RANK, SETTINGS, TESTS_RUNNING, TQDM_BAR_FORMAT,\n",
            "  File \"/usr/local/lib/python3.10/dist-packages/ultralytics/yolo/__init__.py\", line 3, in <module>\n",
            "    from . import v8\n",
            "  File \"/usr/local/lib/python3.10/dist-packages/ultralytics/yolo/v8/__init__.py\", line 3, in <module>\n",
            "    from ultralytics.yolo.v8 import classify, detect, pose, segment\n",
            "  File \"/usr/local/lib/python3.10/dist-packages/ultralytics/yolo/v8/classify/__init__.py\", line 3, in <module>\n",
            "    from ultralytics.yolo.v8.classify.predict import ClassificationPredictor, predict\n",
            "  File \"/usr/local/lib/python3.10/dist-packages/ultralytics/yolo/v8/classify/predict.py\", line 3, in <module>\n",
            "    import torch\n",
            "  File \"/usr/local/lib/python3.10/dist-packages/torch/__init__.py\", line 1476, in <module>\n",
            "    from torch import func as func\n",
            "  File \"/usr/local/lib/python3.10/dist-packages/torch/func/__init__.py\", line 1, in <module>\n",
            "    from torch._functorch.eager_transforms import (\n",
            "  File \"/usr/local/lib/python3.10/dist-packages/torch/_functorch/eager_transforms.py\", line 12, in <module>\n",
            "    from torch.fx.experimental import const_fold\n",
            "  File \"/usr/local/lib/python3.10/dist-packages/torch/fx/experimental/const_fold.py\", line 6, in <module>\n",
            "    from torch.fx.passes.split_module import split_module\n",
            "  File \"/usr/local/lib/python3.10/dist-packages/torch/fx/passes/__init__.py\", line 1, in <module>\n",
            "    from . import graph_drawer\n",
            "  File \"/usr/local/lib/python3.10/dist-packages/torch/fx/passes/graph_drawer.py\", line 13, in <module>\n",
            "    import pydot\n",
            "  File \"/usr/local/lib/python3.10/dist-packages/pydot.py\", line 15, in <module>\n",
            "    import dot_parser\n",
            "  File \"/usr/local/lib/python3.10/dist-packages/dot_parser.py\", line 14, in <module>\n",
            "    from pyparsing import (\n",
            "  File \"/usr/local/lib/python3.10/dist-packages/pyparsing/__init__.py\", line 140, in <module>\n",
            "    from .core import __diag__, __compat__\n",
            "  File \"/usr/local/lib/python3.10/dist-packages/pyparsing/core.py\", line 5798, in <module>\n",
            "    _builtin_exprs: List[ParserElement] = [\n",
            "  File \"/usr/local/lib/python3.10/dist-packages/pyparsing/core.py\", line 5799, in <listcomp>\n",
            "    v for v in vars().values() if isinstance(v, ParserElement)\n",
            "  File \"/usr/lib/python3.10/abc.py\", line 119, in __instancecheck__\n",
            "    return _abc_instancecheck(cls, instance)\n",
            "  File \"/usr/lib/python3.10/abc.py\", line 123, in __subclasscheck__\n",
            "    return _abc_subclasscheck(cls, subclass)\n",
            "  File \"/usr/lib/python3.10/abc.py\", line 123, in __subclasscheck__\n",
            "    return _abc_subclasscheck(cls, subclass)\n",
            "KeyboardInterrupt\n",
            "^C\n"
          ]
        }
      ],
      "source": [
        "!yolo detect predict model=/content/runs/detect/train/weights/best.pt source=/content/predict save=True"
      ]
    }
  ],
  "metadata": {
    "colab": {
      "collapsed_sections": [
        "n3o0Sy960aDL",
        "Gq-0S80p0RaL",
        "z3WQ9EgI_GG2"
      ],
      "provenance": []
    },
    "kernelspec": {
      "display_name": "Python 3",
      "name": "python3"
    },
    "language_info": {
      "name": "python"
    }
  },
  "nbformat": 4,
  "nbformat_minor": 0
}